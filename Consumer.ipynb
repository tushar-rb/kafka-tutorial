{
 "cells": [
  {
   "cell_type": "code",
   "execution_count": 1,
   "id": "28eef08d-cadf-4224-9016-475bf2d0dbcf",
   "metadata": {},
   "outputs": [],
   "source": [
    "from kafka import KafkaConsumer\n",
    "import json"
   ]
  },
  {
   "cell_type": "code",
   "execution_count": null,
   "id": "e9072ed6-10d0-4c42-a860-ad7943ed68fe",
   "metadata": {},
   "outputs": [
    {
     "name": "stdout",
     "output_type": "stream",
     "text": [
      "asdas\n",
      "asd\n",
      "as\n",
      "d\n",
      "hasdasdsa\n",
      "{\"key\": \"value\"}\n",
      "{\"key\": \"value\"}\n",
      "{\"key\": \"value\"}\n",
      "dasd\n",
      "asd\n",
      "asd\n",
      "asd\n",
      "clear\n",
      "None\n",
      "None\n",
      "{\"key\": \"value\"}\n",
      "{\"key\": \"value\"}\n",
      "{\"key\": \"value\"}\n",
      "{\"key\": \"value\"}\n",
      "{\"key\": \"value\"}\n",
      "{\"key\": \"value\"}\n",
      "{\"key\": \"value\"}\n",
      "{\"key\": \"value\"}\n",
      "{\"key\": \"value\"}\n",
      "\u001b[A\n",
      "\u001b[A\u001b[A\u001b[A\u001b[B\u001b[B\u001b[B\u001b[B\n",
      "{\"key\": \"value\"}\n",
      "{\"key\": \"value\"}\n",
      "{\"key\": \"value\"}\n",
      "{\"key\": \"value\"}\n",
      "\u001b[A\u001b[B\n",
      "    group_id='my-group',\n",
      "{\"key\": \"value\"}\n",
      "\u001b[A\u001b[B\n",
      "{\"key\": \"value\"}\n",
      "{\"key\": \"value-0\", \"partition\": 0}\n",
      "{\"key\": \"value\"}\n",
      "{\"key\": \"darshil\"}\n",
      "{\"key\": \"darshil\"}\n",
      "{\"key\": \"darshil\"}\n",
      "{\"key\": \"darshil\"}\n",
      "{\"key\": \"darshil\"}\n",
      "{\"key\": \"darshil\"}\n",
      "{\"key\": \"darshil\"}\n",
      "darshil\n",
      "sdas\n",
      "das\n",
      "das\n",
      "dz\n",
      "darshil\n",
      "asd\n",
      "sa\n",
      "das\n",
      "das\n",
      "d\n",
      "asd\n",
      "{\"key\": \"darshil\"}\n",
      "{\"key\": \"darshil\"}\n",
      "{\"key\": \"akash\"}\n"
     ]
    }
   ],
   "source": [
    "from kafka import KafkaConsumer\n",
    "import json\n",
    "\n",
    "# Define Kafka consumer\n",
    "consumer = KafkaConsumer(\n",
    "    'test-topic',  # The topic to consume messages from\n",
    "    bootstrap_servers=['localhost:9092'],  # List of Kafka brokers to connect to\n",
    "    auto_offset_reset='earliest',  # Where to start reading messages when no offset is stored ('earliest' to read from the beginning)\n",
    "    enable_auto_commit=True,  # Automatically commit offsets after consuming messages\n",
    "    value_deserializer=lambda x: x.decode('utf-8') if x else None  # Deserialize message values from bytes to UTF-8 strings\n",
    ")\n",
    "\n",
    "# Consume messages with error handling for non-JSON messages\n",
    "for message in consumer:\n",
    "    print(message.value)"
   ]
  },
  {
   "cell_type": "code",
   "execution_count": null,
   "id": "267b49d6-d2e6-4bd9-922c-d639841d6646",
   "metadata": {},
   "outputs": [],
   "source": []
  },
  {
   "cell_type": "code",
   "execution_count": null,
   "id": "f4077cf9-20cc-48a6-a408-4426177f64bb",
   "metadata": {},
   "outputs": [],
   "source": []
  },
  {
   "cell_type": "code",
   "execution_count": null,
   "id": "b0be2ebf-e4cd-4c6d-bfde-27b87b67b84c",
   "metadata": {},
   "outputs": [],
   "source": []
  },
  {
   "cell_type": "code",
   "execution_count": null,
   "id": "84777537-2de7-4a1e-88da-d64e1d027842",
   "metadata": {},
   "outputs": [],
   "source": []
  },
  {
   "cell_type": "code",
   "execution_count": null,
   "id": "07b43eb8-e444-466c-9903-d5756ffb1006",
   "metadata": {},
   "outputs": [],
   "source": []
  },
  {
   "cell_type": "code",
   "execution_count": null,
   "id": "d231a507-f993-46e8-a9d6-b840dbeac878",
   "metadata": {},
   "outputs": [],
   "source": []
  },
  {
   "cell_type": "code",
   "execution_count": null,
   "id": "2736eba6-25f2-496f-b583-a4b10b4781db",
   "metadata": {},
   "outputs": [],
   "source": []
  },
  {
   "cell_type": "code",
   "execution_count": null,
   "id": "721cc04b-82ed-4ac2-930c-c830fd24ffdb",
   "metadata": {},
   "outputs": [],
   "source": []
  },
  {
   "cell_type": "code",
   "execution_count": null,
   "id": "559be892-a51b-486b-999e-5f5bfb980148",
   "metadata": {},
   "outputs": [],
   "source": []
  },
  {
   "cell_type": "code",
   "execution_count": null,
   "id": "e0232e76-9f0f-4e5c-9a21-34ddae30f129",
   "metadata": {},
   "outputs": [],
   "source": [
    "# Define Kafka consumer\n",
    "consumer = KafkaConsumer(\n",
    "    'test-topic',\n",
    "    bootstrap_servers=['localhost:9092'],\n",
    "    auto_offset_reset='earliest',\n",
    "    enable_auto_commit=True,\n",
    "    value_deserializer=lambda x: x.decode('utf-8') if x else None\n",
    ")\n",
    "\n",
    "# Consume messages and print partition and offset\n",
    "for message in consumer:\n",
    "    print(f\"Consumed message: {decoded_message}\")\n",
    "    print(f\"Partition: {message.partition}, Offset: {message.offset}\")\n"
   ]
  },
  {
   "cell_type": "code",
   "execution_count": null,
   "id": "14d32fb8-1a42-4eee-8808-b08f62b32853",
   "metadata": {},
   "outputs": [],
   "source": []
  }
 ],
 "metadata": {
  "kernelspec": {
   "display_name": "Python 3 (ipykernel)",
   "language": "python",
   "name": "python3"
  },
  "language_info": {
   "codemirror_mode": {
    "name": "ipython",
    "version": 3
   },
   "file_extension": ".py",
   "mimetype": "text/x-python",
   "name": "python",
   "nbconvert_exporter": "python",
   "pygments_lexer": "ipython3",
   "version": "3.12.3"
  }
 },
 "nbformat": 4,
 "nbformat_minor": 5
}
